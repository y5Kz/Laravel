{
 "cells": [
  {
   "cell_type": "code",
   "execution_count": null,
   "metadata": {},
   "outputs": [],
   "source": [
    "# ファイル名を渡すとすべての段落を返すget_text()関数\n",
    "\n",
    "import docx\n",
    "\n",
    "def get_text(file):\n",
    "    doc = docx.Document(file)\n",
    "    all_text = []                  # テキストを保持するリスト\n",
    "    for para in doc.paragraphs:    # Paragraphオブジェクトから要素を取り出す\n",
    "        all_text.append(para.text) # テキストを取得してall_textに追加\n",
    "    return '\\n'.join(all_text)     # 改行を挟んで要素を連結し、戻り値として返す"
   ]
  },
  {
   "cell_type": "code",
   "execution_count": 2,
   "metadata": {},
   "outputs": [
    {
     "name": "stdout",
     "output_type": "stream",
     "text": [
      "Pythonの特徴\n",
      "Pythonのソースコードの書き方は、オブジェクト指向、命令型、手続き型、関数型などの形式に対応していますので、状況に応じて使い分けることができます。\n",
      "オブジェクト指向を使えばより高度なプログラミングを行えますが、命令型、手続き型、関数型は名前こそ異なりますが、プログラムを書くための基本なので、まずはこれらの書き方を学んでからオブジェクト指向に進むのが一般的です。\n",
      "Pythonの用途は広く、PC上で動作する一般的なアプリケーションの開発から、Webアプリ、ゲーム、画像処理をはじめとする各種自動処理に使われる一方、統計分析、AI（人工知能）開発のためのディープラーニング（深層学習）の分野で多く利用されています。\n"
     ]
    }
   ],
   "source": [
    "print(get_text('サンプル文書.docx'))"
   ]
  },
  {
   "cell_type": "code",
   "execution_count": null,
   "metadata": {},
   "outputs": [],
   "source": []
  }
 ],
 "metadata": {
  "kernelspec": {
   "display_name": "Python 3",
   "language": "python",
   "name": "python3"
  },
  "language_info": {
   "codemirror_mode": {
    "name": "ipython",
    "version": 3
   },
   "file_extension": ".py",
   "mimetype": "text/x-python",
   "name": "python",
   "nbconvert_exporter": "python",
   "pygments_lexer": "ipython3",
   "version": "3.11.4"
  }
 },
 "nbformat": 4,
 "nbformat_minor": 2
}
