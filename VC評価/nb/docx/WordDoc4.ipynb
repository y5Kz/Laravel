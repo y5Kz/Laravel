{
 "cells": [
  {
   "cell_type": "code",
   "execution_count": 5,
   "metadata": {},
   "outputs": [],
   "source": [
    "# Wordドキュメントを作成して段落を追加する\n",
    "\n",
    "import docx\n",
    "doc = docx.Document()                         # 新規ドキュメントを生成\n",
    "doc.add_paragraph('眠たい') # テキストの段落を追加\n",
    "doc.save('新規文書.docx')                     # ドキュメントを保存"
   ]
  },
  {
   "cell_type": "code",
   "execution_count": 7,
   "metadata": {},
   "outputs": [
    {
     "data": {
      "text/plain": [
       "<docx.text.run.Run at 0x1c41e2d4f50>"
      ]
     },
     "execution_count": 7,
     "metadata": {},
     "output_type": "execute_result"
    }
   ],
   "source": [
    "# 既存のドキュメントにテキストの段落を追加する\n",
    "\n",
    "import docx\n",
    "doc = docx.Document('新規文書.docx')       # 既存のドキュメントを読み込む\n",
    "para_1 = doc.add_paragraph('第2段落です。')# 新規段落を追加\n",
    "para_2 = doc.add_paragraph('第3段落です。')# 新規段落を追加\n",
    "# 第2段落にテキストを追加\n",
    "para_1.add_run('第2段落にテキストを追加します。')"
   ]
  },
  {
   "cell_type": "code",
   "execution_count": null,
   "metadata": {},
   "outputs": [],
   "source": [
    "doc.save('新規文書.docx')"
   ]
  },
  {
   "cell_type": "code",
   "execution_count": null,
   "metadata": {},
   "outputs": [],
   "source": [
    "# 見出しのスタイルを指定して段落を追加する\n",
    "\n",
    "import docx\n",
    "doc = docx.Document()          # 新規ドキュメントを生成\n",
    "doc.add_heading('見出し 0', 0) # レベル0の見出しを追加"
   ]
  },
  {
   "cell_type": "code",
   "execution_count": null,
   "metadata": {},
   "outputs": [],
   "source": [
    "doc.add_heading('見出し 1', 1) # レベル1の見出しを追加"
   ]
  },
  {
   "cell_type": "code",
   "execution_count": null,
   "metadata": {},
   "outputs": [],
   "source": [
    "doc.add_heading('見出し 2', 2) # レベル1の見出しを追加"
   ]
  },
  {
   "cell_type": "code",
   "execution_count": null,
   "metadata": {},
   "outputs": [],
   "source": [
    "doc.add_heading('見出し 3', 3) # レベル1の見出しを追加"
   ]
  },
  {
   "cell_type": "code",
   "execution_count": null,
   "metadata": {},
   "outputs": [],
   "source": [
    "doc.add_heading('見出し 4', 4) # レベル1の見出しを追加"
   ]
  },
  {
   "cell_type": "code",
   "execution_count": null,
   "metadata": {},
   "outputs": [],
   "source": [
    "doc.save('見出し.docx')        # ドキュメントを保存"
   ]
  },
  {
   "cell_type": "code",
   "execution_count": null,
   "metadata": {},
   "outputs": [],
   "source": [
    "# 改ページを入れる\n",
    "\n",
    "import docx\n",
    "doc = docx.Document()              # 新規ドキュメントを生成\n",
    "doc.add_paragraph('1ページです。') # 1ページ目に段落を追加"
   ]
  },
  {
   "cell_type": "code",
   "execution_count": null,
   "metadata": {},
   "outputs": [],
   "source": [
    "doc.add_page_break()               # 改ページを入れる"
   ]
  },
  {
   "cell_type": "code",
   "execution_count": null,
   "metadata": {},
   "outputs": [],
   "source": [
    "doc.add_paragraph('2ページです。') # 2ページ目に段落を追加"
   ]
  },
  {
   "cell_type": "code",
   "execution_count": null,
   "metadata": {},
   "outputs": [],
   "source": [
    "doc.save('改ページ.docx')          # ドキュメントを保存"
   ]
  },
  {
   "cell_type": "code",
   "execution_count": null,
   "metadata": {},
   "outputs": [],
   "source": []
  }
 ],
 "metadata": {
  "kernelspec": {
   "display_name": "Python 3",
   "language": "python",
   "name": "python3"
  },
  "language_info": {
   "codemirror_mode": {
    "name": "ipython",
    "version": 3
   },
   "file_extension": ".py",
   "mimetype": "text/x-python",
   "name": "python",
   "nbconvert_exporter": "python",
   "pygments_lexer": "ipython3",
   "version": "3.11.4"
  }
 },
 "nbformat": 4,
 "nbformat_minor": 2
}
