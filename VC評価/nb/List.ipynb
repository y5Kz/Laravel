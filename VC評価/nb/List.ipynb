{
 "cells": [
  {
   "cell_type": "code",
   "execution_count": 1,
   "metadata": {},
   "outputs": [
    {
     "data": {
      "text/plain": [
       "['ティラミス']"
      ]
     },
     "execution_count": 1,
     "metadata": {},
     "output_type": "execute_result"
    }
   ],
   "source": [
    "# append()メソッドで要素を追加する\n",
    "sweets = []\n",
    "sweets.append('ティラミス')\n",
    "sweets"
   ]
  },
  {
   "cell_type": "code",
   "execution_count": 2,
   "metadata": {},
   "outputs": [
    {
     "data": {
      "text/plain": [
       "['ティラミス', 'チョコエクレア']"
      ]
     },
     "execution_count": 2,
     "metadata": {},
     "output_type": "execute_result"
    }
   ],
   "source": [
    "sweets.append('チョコエクレア')\n",
    "sweets"
   ]
  },
  {
   "cell_type": "code",
   "execution_count": 3,
   "metadata": {},
   "outputs": [
    {
     "data": {
      "text/plain": [
       "'ティラミス'"
      ]
     },
     "execution_count": 3,
     "metadata": {},
     "output_type": "execute_result"
    }
   ],
   "source": [
    "# インデックシング（インタラクティブシェルで実行）\n",
    "sweets = ['ティラミス', 'チョコエクレア', 'クレームブリュレ']\n",
    "sweets[0]"
   ]
  },
  {
   "cell_type": "code",
   "execution_count": 4,
   "metadata": {},
   "outputs": [
    {
     "data": {
      "text/plain": [
       "'チョコエクレア'"
      ]
     },
     "execution_count": 4,
     "metadata": {},
     "output_type": "execute_result"
    }
   ],
   "source": [
    "sweets[1]"
   ]
  },
  {
   "cell_type": "code",
   "execution_count": 5,
   "metadata": {},
   "outputs": [
    {
     "data": {
      "text/plain": [
       "'クレームブリュレ'"
      ]
     },
     "execution_count": 5,
     "metadata": {},
     "output_type": "execute_result"
    }
   ],
   "source": [
    "sweets[2]"
   ]
  },
  {
   "cell_type": "code",
   "execution_count": 6,
   "metadata": {},
   "outputs": [
    {
     "data": {
      "text/plain": [
       "'クレームブリュレ'"
      ]
     },
     "execution_count": 6,
     "metadata": {},
     "output_type": "execute_result"
    }
   ],
   "source": [
    "#ネガティブインデックスでアクセス\n",
    "sweets[-1]"
   ]
  },
  {
   "cell_type": "code",
   "execution_count": 7,
   "metadata": {},
   "outputs": [
    {
     "name": "stdout",
     "output_type": "stream",
     "text": [
      "0\n",
      "1\n",
      "2\n",
      "3\n",
      "4\n"
     ]
    }
   ],
   "source": [
    "# rangeオブジェクトをイテレートする\n",
    "for count in range(5): # range(5)は0～4までの値を順次返す\n",
    "    print(count)"
   ]
  },
  {
   "cell_type": "code",
   "execution_count": 8,
   "metadata": {},
   "outputs": [
    {
     "name": "stdout",
     "output_type": "stream",
     "text": [
      "0\n",
      "1\n",
      "2\n",
      "3\n",
      "4\n"
     ]
    }
   ],
   "source": [
    "# リストをイテレートする\n",
    "for count in [0, 1, 2, 3, 4]:\n",
    "   print(count)"
   ]
  },
  {
   "cell_type": "code",
   "execution_count": 9,
   "metadata": {},
   "outputs": [
    {
     "name": "stdout",
     "output_type": "stream",
     "text": [
      "ジェダイは呪文をとなえた！\n",
      "暗黒卿は呪文をとなえた！\n",
      "チューバッカは呪文をとなえた！\n",
      "ヨーダは呪文をとなえた！\n"
     ]
    }
   ],
   "source": [
    "# 文字列のリストをイテレートする\n",
    "names = ['ジェダイ', '暗黒卿', 'チューバッカ', 'ヨーダ']\n",
    "for attack in names:\n",
    "    print(attack+ 'は呪文をとなえた！')"
   ]
  },
  {
   "cell_type": "code",
   "execution_count": 10,
   "metadata": {},
   "outputs": [
    {
     "data": {
      "text/plain": [
       "[0, 1, 2, 3, 4, 5, 6, 7, 8, 9]"
      ]
     },
     "execution_count": 10,
     "metadata": {},
     "output_type": "execute_result"
    }
   ],
   "source": [
    "# range()コンストラクターを利用してリストを作る\n",
    "list(range(10))                      # 0～9を要素にする"
   ]
  },
  {
   "cell_type": "code",
   "execution_count": 11,
   "metadata": {},
   "outputs": [
    {
     "data": {
      "text/plain": [
       "[11, 12, 13, 14, 15, 16, 17, 18, 19, 20]"
      ]
     },
     "execution_count": 11,
     "metadata": {},
     "output_type": "execute_result"
    }
   ],
   "source": [
    "list(range(11, 21))                  # 11～20を要素にする"
   ]
  },
  {
   "cell_type": "code",
   "execution_count": 12,
   "metadata": {},
   "outputs": [
    {
     "data": {
      "text/plain": [
       "[0, 3, 6, 9, 12, 15, 18, 21, 24, 27, 30]"
      ]
     },
     "execution_count": 12,
     "metadata": {},
     "output_type": "execute_result"
    }
   ],
   "source": [
    "list(range(0, 31, 3) )               # 0から3の倍数で30までを要素にする"
   ]
  },
  {
   "cell_type": "code",
   "execution_count": 13,
   "metadata": {},
   "outputs": [
    {
     "data": {
      "text/plain": [
       "[0, -1, -2, -3, -4, -5, -6, -7, -8, -9]"
      ]
     },
     "execution_count": 13,
     "metadata": {},
     "output_type": "execute_result"
    }
   ],
   "source": [
    "list(range(0, -10, -1))              # 0から－1ずつ進む連続値を要素にする"
   ]
  },
  {
   "cell_type": "code",
   "execution_count": 14,
   "metadata": {},
   "outputs": [
    {
     "data": {
      "text/plain": [
       "['ダース・ベイダー', 'ルーク・スカイウォーカー', 'ハン・ソロ']"
      ]
     },
     "execution_count": 14,
     "metadata": {},
     "output_type": "execute_result"
    }
   ],
   "source": [
    "#リストの要素をスライスする\n",
    "character= ['ダース・ベイダー', 'ルーク・スカイウォーカー',\n",
    "            'ハン・ソロ',  'ジャバ・ザ・ハット']\n",
    "# 1番目～3番目の要素をスライス\n",
    "character[0:3]"
   ]
  },
  {
   "cell_type": "code",
   "execution_count": 15,
   "metadata": {},
   "outputs": [
    {
     "data": {
      "text/plain": [
       "['ダース・ベイダー', 'ハン・ソロ']"
      ]
     },
     "execution_count": 15,
     "metadata": {},
     "output_type": "execute_result"
    }
   ],
   "source": [
    "# 3番目のインデックスのみを指定して1つおきにスライスする\n",
    "character[::2]"
   ]
  },
  {
   "cell_type": "code",
   "execution_count": 16,
   "metadata": {},
   "outputs": [
    {
     "data": {
      "text/plain": [
       "['ダース・モール', 'ルーク・スカイウォーカー', 'ハン・ソロ']"
      ]
     },
     "execution_count": 16,
     "metadata": {},
     "output_type": "execute_result"
    }
   ],
   "source": [
    "# リストの要素を書き換える（インタラクティブシェルで実行）\n",
    "character= ['ダース・ベイダー', 'ルーク・スカイウォーカー', 'ハン・ソロ']\n",
    "character[0] = 'ダース・モール'\n",
    "character"
   ]
  },
  {
   "cell_type": "code",
   "execution_count": 17,
   "metadata": {},
   "outputs": [
    {
     "data": {
      "text/plain": [
       "['ダース・ベイダー', 'ルーク・スカイウォーカー', 'ハン・ソロ', 'ジャバ・ザ・ハット']"
      ]
     },
     "execution_count": 17,
     "metadata": {},
     "output_type": "execute_result"
    }
   ],
   "source": [
    "# リスト要素の追加\n",
    "character= ['ダース・ベイダー', 'ルーク・スカイウォーカー', 'ハン・ソロ']\n",
    "# 末尾に追加\n",
    "character.append('ジャバ・ザ・ハット')  \n",
    "character"
   ]
  },
  {
   "cell_type": "code",
   "execution_count": 18,
   "metadata": {},
   "outputs": [
    {
     "data": {
      "text/plain": [
       "'ハン・ソロ'"
      ]
     },
     "execution_count": 18,
     "metadata": {},
     "output_type": "execute_result"
    }
   ],
   "source": [
    "# リスト要素の削除\n",
    "character= ['ダース・ベイダー', 'ルーク・スカイウォーカー', 'ハン・ソロ']\n",
    "delete = character.pop() # 末尾の要素を取り出す\n",
    "delete                   # deleteには取り除かれた要素が代入されている"
   ]
  },
  {
   "cell_type": "code",
   "execution_count": 19,
   "metadata": {},
   "outputs": [
    {
     "data": {
      "text/plain": [
       "['ダース・ベイダー', 'ルーク・スカイウォーカー']"
      ]
     },
     "execution_count": 19,
     "metadata": {},
     "output_type": "execute_result"
    }
   ],
   "source": [
    "character                # 末尾の要素が取り除かれている"
   ]
  },
  {
   "cell_type": "code",
   "execution_count": 20,
   "metadata": {},
   "outputs": [
    {
     "name": "stdout",
     "output_type": "stream",
     "text": [
      "パイソンのこうげき！ -->魔物たちは身構えている\n",
      "パイソンは身を守っている -->魔物たちがはんげきした\n"
     ]
    }
   ],
   "source": [
    "# プレイヤーの攻撃とモンスターの反応を繰り返す（multilist.py）\n",
    "# 攻撃パターン\n",
    "brave = ['パイソンのこうげき！', 'パイソンは身を守っている', 'パイソンはにげだした'] \n",
    "# モンスターの反応パターン\n",
    "monster = ['魔物たちがはんげきした', '魔物たちは身構えている'] \n",
    "# ①2つのリストの要素数を調べて少ない方の数をnに代入する\n",
    "n = min(len(brave),        #  braveの要素数を取得する\n",
    "        len(monster)       #  mamonoの要素数を取得する\n",
    "        )\n",
    "# 少ない方の要素数に合わせて処理を繰り返す\n",
    "for i in range(n):          # 少ない要素の数でrangeオブジェクトを生成する\n",
    "     print(brave[i],        # リストの要素を順番に出力\n",
    "           monster [-i-1],  # リストの末尾要素から順に出力\n",
    "           sep=' -->'       # 区切り文字を指定\n",
    "           )"
   ]
  },
  {
   "cell_type": "code",
   "execution_count": 21,
   "metadata": {},
   "outputs": [
    {
     "data": {
      "text/plain": [
       "['ガンダーク', 'バトルドロイド', 'ゴミ漁り', 'ドゥークー伯爵', 'ダース・シディアス']"
      ]
     },
     "execution_count": 21,
     "metadata": {},
     "output_type": "execute_result"
    }
   ],
   "source": [
    "# リストに別のリストの要素を追加する\n",
    "monster1 = ['ガンダーク',  'バトルドロイド']\n",
    "monster2 = ['ゴミ漁り', 'ドゥークー伯爵', 'ダース・シディアス']\n",
    "monster1.extend(monster2)\n",
    "monster1"
   ]
  },
  {
   "cell_type": "code",
   "execution_count": 22,
   "metadata": {},
   "outputs": [
    {
     "data": {
      "text/plain": [
       "['ガンダーク', 'ドゥークー伯爵', 'バトルドロイド']"
      ]
     },
     "execution_count": 22,
     "metadata": {},
     "output_type": "execute_result"
    }
   ],
   "source": [
    "# インデックスで指定した位置に要素を追加する\n",
    "monster = ['ガンダーク',  'バトルドロイド']\n",
    "#  2番目の位置に追加する\n",
    "monster.insert(1, 'ドゥークー伯爵') \n",
    "monster"
   ]
  },
  {
   "cell_type": "code",
   "execution_count": 23,
   "metadata": {},
   "outputs": [
    {
     "data": {
      "text/plain": [
       "['ガンダーク', 'バトルドロイド']"
      ]
     },
     "execution_count": 23,
     "metadata": {},
     "output_type": "execute_result"
    }
   ],
   "source": [
    "# インデックスで指定した要素を削除する\n",
    "monster = ['ガンダーク', 'ドゥークー伯爵', 'バトルドロイド']\n",
    "# 2番目の要素を削除\n",
    "del monster[1]\n",
    "monster"
   ]
  },
  {
   "cell_type": "code",
   "execution_count": 24,
   "metadata": {},
   "outputs": [
    {
     "data": {
      "text/plain": [
       "['ガンダーク', 'バトルドロイド']"
      ]
     },
     "execution_count": 24,
     "metadata": {},
     "output_type": "execute_result"
    }
   ],
   "source": [
    "# 値を指定して削除する\n",
    "monster = ['ガンダーク', 'ドゥークー伯爵', 'バトルドロイド']\n",
    "monster.remove('ドゥークー伯爵')\n",
    "monster"
   ]
  },
  {
   "cell_type": "code",
   "execution_count": 25,
   "metadata": {},
   "outputs": [
    {
     "data": {
      "text/plain": [
       "1"
      ]
     },
     "execution_count": 25,
     "metadata": {},
     "output_type": "execute_result"
    }
   ],
   "source": [
    "# インデックスを調べる\n",
    "monster = ['ダース・ベイダー', 'ダース・モール', 'ダース・シディアス']\n",
    "monster.index('ダース・モール')  # インデックスを調べる"
   ]
  },
  {
   "cell_type": "code",
   "execution_count": 26,
   "metadata": {},
   "outputs": [
    {
     "data": {
      "text/plain": [
       "True"
      ]
     },
     "execution_count": 26,
     "metadata": {},
     "output_type": "execute_result"
    }
   ],
   "source": [
    "# 指定した値がリストにあるか調べる\n",
    "monster = ['ダース・ベイダー', 'ダース・モール', 'ダース・シディアス']\n",
    "'ダース・ベイダー' in monster"
   ]
  },
  {
   "cell_type": "code",
   "execution_count": 27,
   "metadata": {},
   "outputs": [
    {
     "data": {
      "text/plain": [
       "2"
      ]
     },
     "execution_count": 27,
     "metadata": {},
     "output_type": "execute_result"
    }
   ],
   "source": [
    "# 指定した要素がリストにいくつあるか調べる\n",
    "droid= ['R2-D2', ' R2-D2', ' C-3PO', ' R2-D2']\n",
    "droid.count(' R2-D2')"
   ]
  },
  {
   "cell_type": "code",
   "execution_count": 28,
   "metadata": {},
   "outputs": [
    {
     "data": {
      "text/plain": [
       "['ジャバ・ザ・ハット', 'ダース・ベイダー', 'ハン・ソロ', 'ルーク・スカイウォーカー']"
      ]
     },
     "execution_count": 28,
     "metadata": {},
     "output_type": "execute_result"
    }
   ],
   "source": [
    "# リスト要素の並べ替え\n",
    "character = ['ダース・ベイダー', 'ルーク・スカイウォーカー',\n",
    "             'ハン・ソロ', 'ジャバ・ザ・ハット']\n",
    "# 昇順で並べ替え\n",
    "character.sort()  \n",
    "character"
   ]
  },
  {
   "cell_type": "code",
   "execution_count": 29,
   "metadata": {},
   "outputs": [
    {
     "data": {
      "text/plain": [
       "[0, 1, 3, 4, 5]"
      ]
     },
     "execution_count": 29,
     "metadata": {},
     "output_type": "execute_result"
    }
   ],
   "source": [
    "# 数値の要素を昇順で並べ替え\n",
    "n = [5, 3, 0, 4, 1]\n",
    "n.sort() \n",
    "n"
   ]
  },
  {
   "cell_type": "code",
   "execution_count": 30,
   "metadata": {},
   "outputs": [
    {
     "data": {
      "text/plain": [
       "[5, 4, 3, 1, 0]"
      ]
     },
     "execution_count": 30,
     "metadata": {},
     "output_type": "execute_result"
    }
   ],
   "source": [
    "# 降順で並べ替える\n",
    "n.sort(reverse=True) \n",
    "n"
   ]
  },
  {
   "cell_type": "code",
   "execution_count": 31,
   "metadata": {},
   "outputs": [
    {
     "data": {
      "text/plain": [
       "['たたかう', 'ぼうぎょ']"
      ]
     },
     "execution_count": 31,
     "metadata": {},
     "output_type": "execute_result"
    }
   ],
   "source": [
    "# リストを別の変数に代入する\n",
    "pattern1 = ['たたかう', 'ぼうぎょ']\n",
    "pattern2 = ['たたかう', 'にげる']\n",
    "pattern1 = ['たたかう', 'にげる']\n",
    "pattern2 = pattern1\n",
    "# pattern1の第2要素を変更する\n",
    "pattern1[1] = 'ぼうぎょ'\n",
    "pattern2"
   ]
  },
  {
   "cell_type": "code",
   "execution_count": 32,
   "metadata": {},
   "outputs": [
    {
     "data": {
      "text/plain": [
       "['たたかう', 'ぼうぎょ']"
      ]
     },
     "execution_count": 32,
     "metadata": {},
     "output_type": "execute_result"
    }
   ],
   "source": [
    "# リストをコピーして新しいリストを作る\n",
    "pattern1 = ['たたかう', 'ぼうぎょ']\n",
    "# pattern1をコピーしてリストpattern2を作成する\n",
    "pattern2 = pattern1.copy()\n",
    "# pattern1を引数にしてリストpattern3を作成する\n",
    "pattern3 = list(pattern1)\n",
    "# pattern1のすべての要素をスライスしてリストpattern4を作成する\n",
    "pattern4 = pattern1 [:]\n",
    "pattern4"
   ]
  },
  {
   "cell_type": "code",
   "execution_count": 33,
   "metadata": {},
   "outputs": [
    {
     "data": {
      "text/plain": [
       "[['ガンダーク', 'バトルドロイド'], ['ゴミ漁り', 'ドゥークー伯爵', 'ダース・シディアス']]"
      ]
     },
     "execution_count": 33,
     "metadata": {},
     "output_type": "execute_result"
    }
   ],
   "source": [
    "# リストのリスト\n",
    "# 1つ目のリスト\n",
    "monster1 = ['ガンダーク',  'バトルドロイド']\n",
    "# 2つ目のリスト\n",
    "monster2 = ['ゴミ漁り', 'ドゥークー伯爵', 'ダース・シディアス'] \n",
    "# 2つのリストを要素にする\n",
    "all_monsters = [monster1, monster2] \n",
    "# リストの要素を持つリストを出力\n",
    "all_monsters"
   ]
  },
  {
   "cell_type": "code",
   "execution_count": 34,
   "metadata": {},
   "outputs": [
    {
     "data": {
      "text/plain": [
       "['ガンダーク', 'バトルドロイド']"
      ]
     },
     "execution_count": 34,
     "metadata": {},
     "output_type": "execute_result"
    }
   ],
   "source": [
    "# 第1要素のリストを出力①\n",
    "all_monsters[0]"
   ]
  },
  {
   "cell_type": "code",
   "execution_count": 35,
   "metadata": {},
   "outputs": [
    {
     "data": {
      "text/plain": [
       "'ゴミ漁り'"
      ]
     },
     "execution_count": 35,
     "metadata": {},
     "output_type": "execute_result"
    }
   ],
   "source": [
    "# 第2要素のリストの先頭要素を出力②\n",
    "all_monsters[1][0] "
   ]
  },
  {
   "cell_type": "code",
   "execution_count": 36,
   "metadata": {},
   "outputs": [
    {
     "data": {
      "text/plain": [
       "[1, 2, 3, 4, 5]"
      ]
     },
     "execution_count": 36,
     "metadata": {},
     "output_type": "execute_result"
    }
   ],
   "source": [
    "# forループを使う\n",
    "num_list = []\n",
    "for num in range(1, 6):\n",
    "   num_list.append(num)\n",
    "num_list"
   ]
  },
  {
   "cell_type": "code",
   "execution_count": 37,
   "metadata": {},
   "outputs": [
    {
     "data": {
      "text/plain": [
       "[1, 2, 3, 4, 5]"
      ]
     },
     "execution_count": 37,
     "metadata": {},
     "output_type": "execute_result"
    }
   ],
   "source": [
    "# rangeオブジェクトをリストに変換する\n",
    "num_list = list(range(1, 6))\n",
    "num_list"
   ]
  },
  {
   "cell_type": "code",
   "execution_count": 38,
   "metadata": {},
   "outputs": [
    {
     "data": {
      "text/plain": [
       "[1, 2, 3, 4, 5]"
      ]
     },
     "execution_count": 38,
     "metadata": {},
     "output_type": "execute_result"
    }
   ],
   "source": [
    "# リスト内包表記で要素を追加する\n",
    "num_list = [num for num in range(1, 6)]\n",
    "num_list"
   ]
  },
  {
   "cell_type": "code",
   "execution_count": 39,
   "metadata": {},
   "outputs": [
    {
     "data": {
      "text/plain": [
       "[1, 1, 1, 1, 1]"
      ]
     },
     "execution_count": 39,
     "metadata": {},
     "output_type": "execute_result"
    }
   ],
   "source": [
    "# リスト内包表記の2つの変数が異なる場合\n",
    "n = 1\n",
    "num_list = [n for num in range(1, 6)]\n",
    "num_list"
   ]
  },
  {
   "cell_type": "code",
   "execution_count": 40,
   "metadata": {},
   "outputs": [
    {
     "data": {
      "text/plain": [
       "[0, 1, 2, 3, 4]"
      ]
     },
     "execution_count": 40,
     "metadata": {},
     "output_type": "execute_result"
    }
   ],
   "source": [
    "# リスト内容表記の先頭の変数で値を加工する\n",
    "num_list = [num-1 for num in range(1, 6)]\n",
    "num_list"
   ]
  },
  {
   "cell_type": "code",
   "execution_count": 41,
   "metadata": {},
   "outputs": [
    {
     "data": {
      "text/plain": [
       "[1, 3, 5]"
      ]
     },
     "execution_count": 41,
     "metadata": {},
     "output_type": "execute_result"
    }
   ],
   "source": [
    "# 1～5の範囲の奇数だけをリストに追加する\n",
    "num_list = [num for num in range(1, 6) if num % 2 == 1]\n",
    "num_list"
   ]
  },
  {
   "cell_type": "code",
   "execution_count": null,
   "metadata": {},
   "outputs": [],
   "source": []
  }
 ],
 "metadata": {
  "kernelspec": {
   "display_name": "Python 3",
   "language": "python",
   "name": "python3"
  },
  "language_info": {
   "codemirror_mode": {
    "name": "ipython",
    "version": 3
   },
   "file_extension": ".py",
   "mimetype": "text/x-python",
   "name": "python",
   "nbconvert_exporter": "python",
   "pygments_lexer": "ipython3",
   "version": "3.7.6"
  }
 },
 "nbformat": 4,
 "nbformat_minor": 2
}
