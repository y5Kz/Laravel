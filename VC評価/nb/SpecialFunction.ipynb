{
 "cells": [
  {
   "cell_type": "code",
   "execution_count": 2,
   "metadata": {},
   "outputs": [
    {
     "name": "stdout",
     "output_type": "stream",
     "text": [
      "1月\n",
      "2月\n",
      "3月\n"
     ]
    }
   ],
   "source": [
    "# 可変長パラメーターを使う\n",
    "def sequence (*args):\n",
    "    for s in(args):     # 渡された引数の数だけ繰り返す\n",
    "        print(s + '月') # タプルから取り出した値を表示\n",
    "\n",
    "sequence('1','2','3')   # 必要なだけ引数を指定して関数を呼び出す"
   ]
  },
  {
   "cell_type": "code",
   "execution_count": 2,
   "metadata": {},
   "outputs": [
    {
     "name": "stdout",
     "output_type": "stream",
     "text": [
      "('1', '2', '3')\n"
     ]
    }
   ],
   "source": [
    "def sequence (*args):\n",
    "    print(args)\n",
    "\n",
    "sequence('1','2','3')"
   ]
  },
  {
   "cell_type": "code",
   "execution_count": 3,
   "metadata": {},
   "outputs": [
    {
     "name": "stdout",
     "output_type": "stream",
     "text": [
      "{'year': '2020', 'month': '12'}\n"
     ]
    }
   ],
   "source": [
    "# 辞書型のパラメーターにキーワード引数を渡す\n",
    "def attacks(**kwargs):\n",
    "    print(kwargs)\n",
    "\n",
    "attacks(year='2020', month='12') # キーワード引数を渡す"
   ]
  },
  {
   "cell_type": "code",
   "execution_count": 4,
   "metadata": {},
   "outputs": [],
   "source": [
    "# 引き渡す関数を定義\n",
    "def attack():\n",
    "    print('勇者のこうげき!')"
   ]
  },
  {
   "cell_type": "code",
   "execution_count": 5,
   "metadata": {},
   "outputs": [],
   "source": [
    "# パラメーターで関数を取得し、これを実行する高階関数を定義\n",
    "def run_something(func):  # パラメーターで関数を取得する\n",
    "    func()                # 取得した関数を実行"
   ]
  },
  {
   "cell_type": "code",
   "execution_count": 6,
   "metadata": {},
   "outputs": [
    {
     "name": "stdout",
     "output_type": "stream",
     "text": [
      "勇者のこうげき!\n"
     ]
    }
   ],
   "source": [
    "# attack ()関数の名前を引数にしてrun_something()関数を呼び出す。\n",
    "run_something(attack)"
   ]
  },
  {
   "cell_type": "code",
   "execution_count": 7,
   "metadata": {},
   "outputs": [
    {
     "name": "stdout",
     "output_type": "stream",
     "text": [
      "勇者のこうげき! --> 魔物たちは全滅した\n"
     ]
    }
   ],
   "source": [
    "# パラメーターで関数と引数を受け取る\n",
    "#引き渡す関数を定義\n",
    "def attack (a, b):\n",
    "    print(a, '-->', b)\n",
    "# 高階関数を定義\n",
    "def run_something(func, arg1, arg2):\n",
    "    func(arg1, arg2)\n",
    "# 関数と引数としての値を設定して高階関数を呼出す\n",
    "run_something(attack, '勇者のこうげき!', '魔物たちは全滅した')"
   ]
  },
  {
   "cell_type": "code",
   "execution_count": 8,
   "metadata": {},
   "outputs": [
    {
     "data": {
      "text/plain": [
       "6"
      ]
     },
     "execution_count": 8,
     "metadata": {},
     "output_type": "execute_result"
    }
   ],
   "source": [
    "# 関数内関数の定義\n",
    "def outer(a, b):\n",
    "    def inner(c, d):    # 関数内関数\n",
    "        return c + d\n",
    "    return inner(a, b)  # 関数内関数の結果を返す\n",
    "\n",
    "outer(1, 5)"
   ]
  },
  {
   "cell_type": "code",
   "execution_count": 9,
   "metadata": {},
   "outputs": [
    {
     "data": {
      "text/plain": [
       "'勇者の攻撃!--> 魔物たちは逃走した'"
      ]
     },
     "execution_count": 9,
     "metadata": {},
     "output_type": "execute_result"
    }
   ],
   "source": [
    "# 文字列を扱う関数内関数\n",
    "def add_reaction (act):\n",
    "    def inner(s):                             # 関数内関数\n",
    "        return s + '--> 魔物たちは逃走した'\n",
    "    return inner(act)                         # 関数内関数の結果を返す\n",
    "\n",
    "add_reaction ('勇者の攻撃!')"
   ]
  },
  {
   "cell_type": "code",
   "execution_count": 10,
   "metadata": {},
   "outputs": [],
   "source": [
    "# 関数内部でクロージャ―を定義する\n",
    "def add_reaction(act):\n",
    "    def inner():                         # クロージャ―\n",
    "        return act + '--> 魔物たちは混乱している'\n",
    "    return inner"
   ]
  },
  {
   "cell_type": "code",
   "execution_count": 11,
   "metadata": {},
   "outputs": [],
   "source": [
    "# aとbにクロージャ―を格納する\n",
    "a = add_reaction ('魔物たちが現れた！')\n",
    "b = add_reaction ('勇者の攻撃！')"
   ]
  },
  {
   "cell_type": "code",
   "execution_count": 12,
   "metadata": {},
   "outputs": [
    {
     "data": {
      "text/plain": [
       "'魔物たちが現れた！--> 魔物たちは混乱している'"
      ]
     },
     "execution_count": 12,
     "metadata": {},
     "output_type": "execute_result"
    }
   ],
   "source": [
    "# クロージャ―を実行する\n",
    "a()"
   ]
  },
  {
   "cell_type": "code",
   "execution_count": 13,
   "metadata": {},
   "outputs": [
    {
     "data": {
      "text/plain": [
       "'勇者の攻撃！--> 魔物たちは混乱している'"
      ]
     },
     "execution_count": 13,
     "metadata": {},
     "output_type": "execute_result"
    }
   ],
   "source": [
    "b()"
   ]
  },
  {
   "cell_type": "code",
   "execution_count": 14,
   "metadata": {},
   "outputs": [],
   "source": [
    "# リストと関数オブジェクトをパラメーターで取得する関数\n",
    "def edit_reaction(reactions, func):\n",
    "     for reaction in reactions:\n",
    "         print(func(reaction))"
   ]
  },
  {
   "cell_type": "code",
   "execution_count": 15,
   "metadata": {},
   "outputs": [],
   "source": [
    "# 魔物のリアクションのリスト\n",
    "pattern = ['魔物たちは身構えている',\n",
    "           '魔物たちは混乱している',\n",
    "           '魔物たちは逃走した']"
   ]
  },
  {
   "cell_type": "code",
   "execution_count": 16,
   "metadata": {},
   "outputs": [],
   "source": [
    "# リアクションを強調する\n",
    "def impact(reaction):\n",
    "     return reaction + '!!!'"
   ]
  },
  {
   "cell_type": "code",
   "execution_count": 17,
   "metadata": {},
   "outputs": [
    {
     "name": "stdout",
     "output_type": "stream",
     "text": [
      "魔物たちは身構えている!!!\n",
      "魔物たちは混乱している!!!\n",
      "魔物たちは逃走した!!!\n"
     ]
    }
   ],
   "source": [
    "# edit_sound()関数を実行\n",
    "edit_reaction (pattern, impact)"
   ]
  },
  {
   "cell_type": "code",
   "execution_count": 18,
   "metadata": {},
   "outputs": [
    {
     "name": "stdout",
     "output_type": "stream",
     "text": [
      "魔物たちは身構えている!!!\n",
      "魔物たちは混乱している!!!\n",
      "魔物たちは逃走した!!!\n"
     ]
    }
   ],
   "source": [
    "# 打音の強調処理をラムダ式にする\n",
    "edit_reaction(pattern, lambda reaction: reaction + '!!!')"
   ]
  },
  {
   "cell_type": "code",
   "execution_count": 19,
   "metadata": {},
   "outputs": [
    {
     "name": "stdout",
     "output_type": "stream",
     "text": [
      "「パ」\n"
     ]
    }
   ],
   "source": [
    "# 文字列から1文字ずつ取り出す\n",
    "def generate(str):\n",
    "    for s in str:\n",
    "        yield '「' + s +'」'\n",
    "\n",
    "gen = generate('パコーンッッ!') # ジェネレーターオブジェクトを生成\n",
    "print(next(gen))"
   ]
  },
  {
   "cell_type": "code",
   "execution_count": 20,
   "metadata": {},
   "outputs": [
    {
     "name": "stdout",
     "output_type": "stream",
     "text": [
      "「コ」\n"
     ]
    }
   ],
   "source": [
    "print(next(gen))"
   ]
  },
  {
   "cell_type": "code",
   "execution_count": 21,
   "metadata": {},
   "outputs": [
    {
     "name": "stdout",
     "output_type": "stream",
     "text": [
      "「ー」\n"
     ]
    }
   ],
   "source": [
    "print(next(gen))"
   ]
  },
  {
   "cell_type": "code",
   "execution_count": 22,
   "metadata": {},
   "outputs": [
    {
     "name": "stdout",
     "output_type": "stream",
     "text": [
      "「ン」\n"
     ]
    }
   ],
   "source": [
    "print(next(gen))"
   ]
  },
  {
   "cell_type": "code",
   "execution_count": 23,
   "metadata": {},
   "outputs": [
    {
     "name": "stdout",
     "output_type": "stream",
     "text": [
      "「ッ」\n"
     ]
    }
   ],
   "source": [
    "print(next(gen))"
   ]
  },
  {
   "cell_type": "code",
   "execution_count": 24,
   "metadata": {},
   "outputs": [
    {
     "name": "stdout",
     "output_type": "stream",
     "text": [
      "「ッ」\n"
     ]
    }
   ],
   "source": [
    "print(next(gen))"
   ]
  },
  {
   "cell_type": "code",
   "execution_count": 25,
   "metadata": {},
   "outputs": [
    {
     "name": "stdout",
     "output_type": "stream",
     "text": [
      "「!」\n"
     ]
    }
   ],
   "source": [
    "print(next(gen))"
   ]
  },
  {
   "cell_type": "code",
   "execution_count": 26,
   "metadata": {},
   "outputs": [
    {
     "name": "stdout",
     "output_type": "stream",
     "text": [
      "「パ」\n",
      "「コ」\n",
      "「ー」\n",
      "「ン」\n",
      "「ッ」\n",
      "「ッ」\n",
      "「!」\n"
     ]
    }
   ],
   "source": [
    "# forループでジェネレーターを処理する\n",
    "gen = generate('パコーンッッ!')\n",
    "for s in gen:\n",
    "    print(s)"
   ]
  },
  {
   "cell_type": "code",
   "execution_count": 27,
   "metadata": {},
   "outputs": [
    {
     "name": "stdout",
     "output_type": "stream",
     "text": [
      "function called:hello\n",
      "ごぶさた！\n"
     ]
    }
   ],
   "source": [
    "# 関数をデコレート（装飾）する（decorater.py）\n",
    "def hello():\n",
    "    return \"ごぶさた！\"\n",
    "\n",
    "# 関数を受け取り関数を返す高階関数\n",
    "def dec(func):\n",
    "    def new_func():\n",
    "        print ('function called:' + func.__name__)\n",
    "        return func()\n",
    "    return new_func\n",
    "\n",
    "# hello()関数を書き換え\n",
    "hello = dec(hello)\n",
    "\n",
    "print (hello())"
   ]
  },
  {
   "cell_type": "code",
   "execution_count": null,
   "metadata": {},
   "outputs": [],
   "source": []
  }
 ],
 "metadata": {
  "kernelspec": {
   "display_name": "Python 3",
   "language": "python",
   "name": "python3"
  },
  "language_info": {
   "codemirror_mode": {
    "name": "ipython",
    "version": 3
   },
   "file_extension": ".py",
   "mimetype": "text/x-python",
   "name": "python",
   "nbconvert_exporter": "python",
   "pygments_lexer": "ipython3",
   "version": "3.11.4"
  }
 },
 "nbformat": 4,
 "nbformat_minor": 2
}
