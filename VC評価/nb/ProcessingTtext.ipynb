{
 "cells": [
  {
   "cell_type": "code",
   "execution_count": 19,
   "metadata": {},
   "outputs": [
    {
     "data": {
      "text/plain": [
       "True"
      ]
     },
     "execution_count": 19,
     "metadata": {},
     "output_type": "execute_result"
    }
   ],
   "source": [
    "# 同じ文字列かどうかを調べる\n",
    "\n",
    "word = 'right'\n",
    "word == 'right'  # 同じ文字列"
   ]
  },
  {
   "cell_type": "code",
   "execution_count": 21,
   "metadata": {},
   "outputs": [
    {
     "data": {
      "text/plain": [
       "True"
      ]
     },
     "execution_count": 21,
     "metadata": {},
     "output_type": "execute_result"
    }
   ],
   "source": [
    "# 文字列が含まれるかどうかを調べる\n",
    "\n",
    "word_1 = 'right'\n",
    "word_2 = 'light'\n",
    "'ight' in word_1  # word_1に'ight'が含まれているか"
   ]
  },
  {
   "cell_type": "code",
   "execution_count": 3,
   "metadata": {},
   "outputs": [
    {
     "data": {
      "text/plain": [
       "True"
      ]
     },
     "execution_count": 3,
     "metadata": {},
     "output_type": "execute_result"
    }
   ],
   "source": [
    "'ight' in word_2  # word_2に'ight'が含まれているか"
   ]
  },
  {
   "cell_type": "code",
   "execution_count": 4,
   "metadata": {},
   "outputs": [
    {
     "data": {
      "text/plain": [
       "False"
      ]
     },
     "execution_count": 4,
     "metadata": {},
     "output_type": "execute_result"
    }
   ],
   "source": [
    "'l' in word_1     # word_1に'l'が含まれているか"
   ]
  },
  {
   "cell_type": "code",
   "execution_count": 5,
   "metadata": {},
   "outputs": [
    {
     "data": {
      "text/plain": [
       "False"
      ]
     },
     "execution_count": 5,
     "metadata": {},
     "output_type": "execute_result"
    }
   ],
   "source": [
    "'r' in word_2     # word_1に'r'が含まれているか"
   ]
  },
  {
   "cell_type": "code",
   "execution_count": 6,
   "metadata": {},
   "outputs": [
    {
     "name": "stdout",
     "output_type": "stream",
     "text": [
      "I saw the sky.\n"
     ]
    }
   ],
   "source": [
    "# 指定した文字列が含まれる場合にのみ文章を表示する\n",
    "\n",
    "sentence = 'I saw the sky.'\n",
    "if 'sky' in sentence:\n",
    "    print(sentence)"
   ]
  },
  {
   "cell_type": "code",
   "execution_count": 14,
   "metadata": {},
   "outputs": [
    {
     "name": "stdout",
     "output_type": "stream",
     "text": [
      "私は空を見上げた。\n"
     ]
    }
   ],
   "source": [
    "# 指定した文字列が含まれる場合にのみ文章を表示する\n",
    "\n",
    "sentence = '私は空を見上げた。'\n",
    "if '空' in sentence:    # '空'を含んでいればsentenceを出力\n",
    "    print(sentence)"
   ]
  },
  {
   "cell_type": "code",
   "execution_count": 13,
   "metadata": {},
   "outputs": [
    {
     "name": "stdout",
     "output_type": "stream",
     "text": [
      "私は海を見上げた。\n"
     ]
    }
   ],
   "source": [
    "if '海' in sentence:    # '海'を含んでいればsentenceを出力\n",
    "    print(sentence)     # 何も出力さえない"
   ]
  },
  {
   "cell_type": "code",
   "execution_count": 9,
   "metadata": {},
   "outputs": [
    {
     "data": {
      "text/plain": [
       "True"
      ]
     },
     "execution_count": 9,
     "metadata": {},
     "output_type": "execute_result"
    }
   ],
   "source": [
    "# 指定した文字列で始まっているか、または終わっているかを調べる\n",
    "\n",
    "word = 'ununderstandable'\n",
    "word.startswith('un')"
   ]
  },
  {
   "cell_type": "code",
   "execution_count": 10,
   "metadata": {},
   "outputs": [
    {
     "data": {
      "text/plain": [
       "False"
      ]
     },
     "execution_count": 10,
     "metadata": {},
     "output_type": "execute_result"
    }
   ],
   "source": [
    "word.startswith('in')"
   ]
  },
  {
   "cell_type": "code",
   "execution_count": 11,
   "metadata": {},
   "outputs": [
    {
     "data": {
      "text/plain": [
       "True"
      ]
     },
     "execution_count": 11,
     "metadata": {},
     "output_type": "execute_result"
    }
   ],
   "source": [
    "word.endswith('able')"
   ]
  },
  {
   "cell_type": "code",
   "execution_count": 21,
   "metadata": {},
   "outputs": [
    {
     "name": "stdout",
     "output_type": "stream",
     "text": [
      "いいえ、私は空を見上げません\n"
     ]
    }
   ],
   "source": [
    "# 特定の文字列を含まないかを調べる\n",
    "\n",
    "sentence = 'いいえ、私は空を見上げません'\n",
    "if not sentence.startswith('はい'):\n",
    "    print(sentence)"
   ]
  },
  {
   "cell_type": "code",
   "execution_count": 22,
   "metadata": {},
   "outputs": [
    {
     "name": "stdout",
     "output_type": "stream",
     "text": [
      "いいえ、私は空を見上げません\n"
     ]
    }
   ],
   "source": [
    "if not sentence.endswith('ます'):\n",
    "    print(sentence)"
   ]
  },
  {
   "cell_type": "code",
   "execution_count": 7,
   "metadata": {},
   "outputs": [
    {
     "name": "stdout",
     "output_type": "stream",
     "text": [
      "私はプログラマーです。\n"
     ]
    }
   ],
   "source": [
    "# 特定の文字列を含まないかを調べる\n",
    "\n",
    "sentence = '私はプログラマーです。'\n",
    "if sentence.startswith('私は') and sentence.endswith('です。'):\n",
    "    print(sentence)"
   ]
  },
  {
   "cell_type": "code",
   "execution_count": 4,
   "metadata": {},
   "outputs": [
    {
     "name": "stdout",
     "output_type": "stream",
     "text": [
      "私はゲームが大好きなプログラマーです。\n"
     ]
    }
   ],
   "source": [
    "#文の冒頭が'私は'で始まり、末尾が'ません。'で終わっていないかをチェック\n",
    "\n",
    "sentence = '私はゲームが大好きなプログラマーです。'\n",
    "if sentence.startswith('私は') and not sentence.endswith('ません。'):\n",
    "    print(sentence)"
   ]
  },
  {
   "cell_type": "code",
   "execution_count": 3,
   "metadata": {},
   "outputs": [
    {
     "name": "stdout",
     "output_type": "stream",
     "text": [
      "僕は喜納です。\n"
     ]
    }
   ],
   "source": [
    "# 文章が'僕'または'私'で始まっていれば、その文章を表示する\n",
    "\n",
    "sentence = '僕は喜納です。'\n",
    "if sentence.startswith('私は') or sentence.startswith('僕は'):\n",
    "    print(sentence)"
   ]
  },
  {
   "cell_type": "code",
   "execution_count": 2,
   "metadata": {},
   "outputs": [
    {
     "name": "stdout",
     "output_type": "stream",
     "text": [
      "僕はvc評価をやっています。\n"
     ]
    }
   ],
   "source": [
    "# 文章が'僕'または'私'で始まっていれば、その文章を表示する\n",
    "\n",
    "sentence = '僕はvc評価をやっています。'\n",
    "if sentence.endswith('です。') or sentence.endswith('います。'):\n",
    "    print(sentence)"
   ]
  },
  {
   "cell_type": "code",
   "execution_count": null,
   "metadata": {},
   "outputs": [],
   "source": []
  }
 ],
 "metadata": {
  "kernelspec": {
   "display_name": "Python 3",
   "language": "python",
   "name": "python3"
  },
  "language_info": {
   "codemirror_mode": {
    "name": "ipython",
    "version": 3
   },
   "file_extension": ".py",
   "mimetype": "text/x-python",
   "name": "python",
   "nbconvert_exporter": "python",
   "pygments_lexer": "ipython3",
   "version": "3.11.4"
  }
 },
 "nbformat": 4,
 "nbformat_minor": 2
}
