{
 "cells": [
  {
   "cell_type": "code",
   "execution_count": 1,
   "metadata": {},
   "outputs": [],
   "source": [
    "# ベースの画面を表示する\n",
    "\n",
    "import tkinter as tk  # tkinterをインポートしてtkという名前で使えるようにする\n",
    "\n",
    "base = tk.Tk()        # Tkクラスをインスタンス化する\n",
    "base.mainloop()       # ウィンドウの状態を維持"
   ]
  },
  {
   "cell_type": "code",
   "execution_count": 3,
   "metadata": {},
   "outputs": [],
   "source": [
    "# メインウィンドウを作る\n",
    "\n",
    "import tkinter as tk\n",
    "\n",
    "root = tk.Tk()                   # メインウィンドウを作成\n",
    "root.geometry('500x400')         # ウィンドウのサイズを設定\n",
    "root.title('YusukeKino') # ウィンドウのタイトルを設定\n",
    "root.mainloop()                  # ウィンドウの状態を維持"
   ]
  },
  {
   "cell_type": "code",
   "execution_count": 4,
   "metadata": {},
   "outputs": [],
   "source": [
    "# ボタンを配置する位置を指定する\n",
    "\n",
    "import tkinter as tk\n",
    "\n",
    "root = tk.Tk()                                # メインウィンドウを作成\n",
    "root.geometry('100x100')                      # ウィンドウのサイズを設定\n",
    "\n",
    "button1 = tk.Button(\n",
    "    root, text='ボタン1').pack()              # ボタンを配置\n",
    "\n",
    "button2 = tk.Button(\n",
    "    root, text='ボタン2').pack(side=tk.LEFT)  # ボタンを左に配置\n",
    "\n",
    "button3 = tk.Button(\n",
    "    root, text='ボタン3').pack(side=tk.RIGHT)  # ボタンを右に配置\n",
    "\n",
    "root.mainloop()"
   ]
  },
  {
   "cell_type": "code",
   "execution_count": 5,
   "metadata": {},
   "outputs": [],
   "source": [
    "# ボタンを上から順に3つ配置する\n",
    "\n",
    "import tkinter as tk\n",
    "\n",
    "root = tk.Tk()                    # メインウィンドウを作成\n",
    "root.geometry('100x100')          # ウィンドウのサイズを設定\n",
    "\n",
    "button1 = tk.Button(\n",
    "              root,              # 親要素はroot\n",
    "              text='ボタン1'     # ボタンに表示するテキスト\n",
    "          ).pack()               # ボタンを配置\n",
    "\n",
    "button2 = tk.Button(\n",
    "    root, text='ボタン2').pack()  # 2つ目のボタンを配置\n",
    "\n",
    "button3 = tk.Button(\n",
    "    root, text='ボタン3').pack()  # 3つ目のボタンを配置\n",
    "\n",
    "root.mainloop()"
   ]
  },
  {
   "cell_type": "code",
   "execution_count": 6,
   "metadata": {},
   "outputs": [],
   "source": [
    "# グリッド上にボタンを配置する\n",
    "\n",
    "import tkinter as tk\n",
    "\n",
    "root = tk.Tk()                                  # メインウィンドウを作成\n",
    "root.geometry('100x100')                        # ウィンドウのサイズを設定\n",
    "\n",
    "button1 = tk.Button(\n",
    "    root, text='ボタン1').grid(row=0, column=0) # 1行目の1列目にボタンを配置\n",
    "\n",
    "button2 = tk.Button(\n",
    "    root, text='ボタン2').grid(row=0, column=1) # 1行目の2列目にボタンを左に配置\n",
    "\n",
    "button3 = tk.Button(\n",
    "    root, text='ボタン3').grid(row=1, column=1) # 2行目の2列目にボタンを右に配置\n",
    "\n",
    "root.mainloop()"
   ]
  },
  {
   "cell_type": "code",
   "execution_count": null,
   "metadata": {},
   "outputs": [],
   "source": [
    "# ピクセル単位で位置を指定する\n",
    "\n",
    "import tkinter as tk\n",
    "\n",
    "root = tk.Tk()                                # メインウィンドウを作成\n",
    "root.geometry('200x200')                      # ウィンドウのサイズを設定\n",
    "\n",
    "button1 = tk.Button(\n",
    "    root, text='ボタン1').place(x=0, y=0)     # ウィンドウの左上隅に配置\n",
    "\n",
    "button2 = tk.Button(                          # 左端から50px、\n",
    "    root, text='ボタン2').place(x=50, y=50)   # 上端から50pxの位置に配置\n",
    "\n",
    "button3 = tk.Button(                          # 左端から100px、\n",
    "    root, text='ボタン3').place(x=100, y=100) # 上端から100pxの位置に配置\n",
    "\n",
    "root.mainloop()"
   ]
  },
  {
   "cell_type": "code",
   "execution_count": 1,
   "metadata": {},
   "outputs": [
    {
     "name": "stdout",
     "output_type": "stream",
     "text": [
      "押しましたね\n"
     ]
    }
   ],
   "source": [
    "# ボタンクリックでpush()関数を呼び出す\n",
    "\n",
    "import tkinter as tk\n",
    "\n",
    "def push():                         # ボタンクリックで呼び出す関数\n",
    "    print('押しましたね')\n",
    "\n",
    "root = tk.Tk()                      # メインウィンドウを作成\n",
    "root.geometry('100x50')             # ウィンドウのサイズを設定\n",
    "button = tk.Button(root,\n",
    "                   text='押してね',\n",
    "                   command=push     # push()関数を呼び出す\n",
    "                   ).pack()\n",
    "\n",
    "root.mainloop()"
   ]
  },
  {
   "cell_type": "code",
   "execution_count": 10,
   "metadata": {},
   "outputs": [
    {
     "name": "stdout",
     "output_type": "stream",
     "text": [
      "LOLをプレイした\n",
      "原神をプレイした\n"
     ]
    }
   ],
   "source": [
    "# チェックされた項目を通知するプログラム\n",
    "\n",
    "import tkinter as tk\n",
    "\n",
    "# チェックボタンに表示する文字列を用意\n",
    "item  = ['Apex','Valorant', 'LOL', '原神']\n",
    "# BooleanVarオブジェクトを格納するための辞書\n",
    "check = {}\n",
    "\n",
    "root = tk.Tk()                  # メインウィンドウを作成\n",
    "root.geometry('200x150')        # ウィンドウのサイズを設定\n",
    "\n",
    "# チェックボタンの作成と配置\n",
    "# itemリストの要素の数だけ処理を繰り返す\n",
    "for i in range(len(item)):\n",
    "    # BooleanVarオブジェクトを作成してリストcheckの要素にする\n",
    "    check[i] = tk.BooleanVar()\n",
    "    # チェックボタンの作成と配置\n",
    "    tk.Checkbutton(root,                # 親要素を指定\n",
    "                   variable = check[i], # variableに辞書checkのi番目の要素を指定\n",
    "                   text = item[i]       # textにリストitemのi番目の要素を指定\n",
    "                   ).pack(anchor=tk.W)  # 左寄せで配置する\n",
    "\n",
    "# チェックボタンの状態を通知する関数\n",
    "def choice():\n",
    "    # 辞書checkの要素の数だけ繰り返す\n",
    "    for i in check:\n",
    "        # checkのキーiのBooleanVarオブジェクトのTrue／Falseを調べる\n",
    "        if check[i].get() == True:\n",
    "            print(item[i] + 'をプレイした')\n",
    "\n",
    "# ボタンの作成と配置\n",
    "button = tk.Button(root,\n",
    "                   text = '完了',\n",
    "                   command = choice     # クリック時にchoice()関数を呼ぶ\n",
    "                   ).pack()\n",
    "\n",
    "root.mainloop()"
   ]
  },
  {
   "cell_type": "code",
   "execution_count": 11,
   "metadata": {},
   "outputs": [
    {
     "name": "stdout",
     "output_type": "stream",
     "text": [
      "明日はvc評価をやりましょう\n"
     ]
    }
   ],
   "source": [
    "# 4つのラジオボタンから1つだけ選択してもらう\n",
    "\n",
    "import tkinter as tk\n",
    "\n",
    "# ラジオボタンに表示する文字列を用意\n",
    "item = ['ゲーム', 'vc評価', '睡眠','飲み会']\n",
    "\n",
    "root = tk.Tk()                         # メインウィンドウを作成\n",
    "root.geometry('200x150')               # ウィンドウのサイズを設定\n",
    "val = tk.IntVar()                      # IntVarオブジェクトを作成して変数に代入\n",
    "\n",
    "# ラジオボタンの作成と配置\n",
    "# itemリストの要素の数だけ処理を繰り返す\n",
    "for i in range(len(item)):\n",
    "    tk.Radiobutton(root,# 親要素を指定\n",
    "                   value = i,          # valueの値をiにする\n",
    "                   variable =val,      # variableにIntVarオブジェクトを指定\n",
    "                   text = item[i]      # textにリストitemのi番目の要素を指定\n",
    "                   ).pack(anchor=tk.W) # 左寄せで配置する\n",
    "\n",
    "# ラジオボタンの状態を通知する関数\n",
    "def choice():\n",
    "    ch = val.get()                     # IntVarオブジェクトの値を取得\n",
    "    # リストitemのインデックスをchに指定して要素を出力\n",
    "    print('明日は' + item[ch] + 'をやりましょう')\n",
    "\n",
    "# ボタンの作成と配置\n",
    "button = tk.Button(root,\n",
    "                   text = '明日やること',\n",
    "                   command = choice    # クリック時にchoice()関数を呼ぶ\n",
    "                   ).pack()\n",
    "\n",
    "root.mainloop()"
   ]
  },
  {
   "cell_type": "code",
   "execution_count": null,
   "metadata": {},
   "outputs": [],
   "source": [
    "# メニューバーの作成\n",
    "\n",
    "# メインウィンドウを作成\n",
    "root = tk.Tk()\n",
    "# Menuオブジェクトを生成\n",
    "menubar = tk.Menu(root)\n",
    "# ウィンドウにメニューバーを配置する\n",
    "root.config(menu=menubar)\n",
    "# メニューバーを引数にしてMenuオブジェクトを生成\n",
    "filemenu = tk.Menu(menubar)\n",
    "# ファイル］メニューをメニューバーに配置\n",
    "menubar.add_cascade(label='ファイル', menu=filemenu)\n",
    "# 関数やメソッドを実行できるアイテムを追加する\n",
    "filemenu.add_command(label='閉じる')\n",
    "\n",
    "root.mainloop()"
   ]
  },
  {
   "cell_type": "code",
   "execution_count": null,
   "metadata": {},
   "outputs": [],
   "source": []
  }
 ],
 "metadata": {
  "kernelspec": {
   "display_name": "Python 3",
   "language": "python",
   "name": "python3"
  },
  "language_info": {
   "codemirror_mode": {
    "name": "ipython",
    "version": 3
   },
   "file_extension": ".py",
   "mimetype": "text/x-python",
   "name": "python",
   "nbconvert_exporter": "python",
   "pygments_lexer": "ipython3",
   "version": "3.11.4"
  }
 },
 "nbformat": 4,
 "nbformat_minor": 2
}
