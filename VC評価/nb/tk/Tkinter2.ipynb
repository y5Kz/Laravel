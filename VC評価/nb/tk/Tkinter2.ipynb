{
 "cells": [
  {
   "cell_type": "code",
   "execution_count": null,
   "metadata": {},
   "outputs": [],
   "source": [
    "# ［閉じる］アイテムが選択されたときに呼ばれる関数\n",
    "\n",
    "from tkinter import messagebox\n",
    "\n",
    "def callback():\n",
    "    # メッセージボックスの[はい]ボタンクリック時の処理\n",
    "    if messagebox.askyesno(\n",
    "        'Quit?', '終了する？'):\n",
    "        root.destroy()\n",
    "    # [いいえ]ボタンをクリックしたら何もしない"
   ]
  },
  {
   "cell_type": "code",
   "execution_count": null,
   "metadata": {},
   "outputs": [],
   "source": [
    "import tkinter as tk\n",
    "\n",
    "# メインウィンドウを作成\n",
    "root = tk.Tk()                  \n",
    "# ウィンドウが閉じられる直前にcallback()関数を呼ぶ\n",
    "root.protocol('WM_DELETE_WINDOW', callback)\n",
    "\n",
    "# メニューバーのためのMenuオブジェクトを作成\n",
    "menubar = tk.Menu(root)\n",
    "# ウィンドウのメニューバーとして登録\n",
    "root.config(menu=menubar)\n",
    "# メニューのためのMenuオブジェクトを生成\n",
    "# 引数はメニューバー\n",
    "filemenu = tk.Menu(menubar)\n",
    "# ［ファイル］メニューをメニューバーに配置\n",
    "menubar.add_cascade(label='ファイル', menu=filemenu)\n",
    "# ［閉じる］アイテムを配置\n",
    "filemenu.add_command(label='閉じる', command=callback)\n",
    "\n",
    "root.mainloop()"
   ]
  },
  {
   "cell_type": "code",
   "execution_count": null,
   "metadata": {},
   "outputs": [],
   "source": []
  }
 ],
 "metadata": {
  "kernelspec": {
   "display_name": "Python 3",
   "language": "python",
   "name": "python3"
  },
  "language_info": {
   "codemirror_mode": {
    "name": "ipython",
    "version": 3
   },
   "file_extension": ".py",
   "mimetype": "text/x-python",
   "name": "python",
   "nbconvert_exporter": "python",
   "pygments_lexer": "ipython3",
   "version": "3.11.4"
  }
 },
 "nbformat": 4,
 "nbformat_minor": 2
}
